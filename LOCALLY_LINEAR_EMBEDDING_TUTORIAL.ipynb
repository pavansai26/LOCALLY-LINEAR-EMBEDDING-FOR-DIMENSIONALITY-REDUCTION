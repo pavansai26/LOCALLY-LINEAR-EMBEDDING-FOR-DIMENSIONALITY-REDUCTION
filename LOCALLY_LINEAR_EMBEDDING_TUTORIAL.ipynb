{
  "nbformat": 4,
  "nbformat_minor": 0,
  "metadata": {
    "colab": {
      "name": "LOCALLY LINEAR EMBEDDING TUTORIAL.ipynb",
      "provenance": [],
      "authorship_tag": "ABX9TyOK+YrlRceUQXSMUqIEGMkD",
      "include_colab_link": true
    },
    "kernelspec": {
      "name": "python3",
      "display_name": "Python 3"
    },
    "accelerator": "GPU"
  },
  "cells": [
    {
      "cell_type": "markdown",
      "metadata": {
        "id": "view-in-github",
        "colab_type": "text"
      },
      "source": [
        "<a href=\"https://colab.research.google.com/github/pavansai26/LOCALLY-LINEAR-EMBEDDING-FOR-DIMENSIONALITY-REDUCTION/blob/master/LOCALLY_LINEAR_EMBEDDING_TUTORIAL.ipynb\" target=\"_parent\"><img src=\"https://colab.research.google.com/assets/colab-badge.svg\" alt=\"Open In Colab\"/></a>"
      ]
    },
    {
      "cell_type": "markdown",
      "metadata": {
        "id": "PRUQa5lJfG_2",
        "colab_type": "text"
      },
      "source": [
        "# **importing the necessary libraries**"
      ]
    },
    {
      "cell_type": "code",
      "metadata": {
        "id": "Qd2KlR-eeIXz",
        "colab_type": "code",
        "colab": {
          "base_uri": "https://localhost:8080/",
          "height": 70
        },
        "outputId": "2dc6fa73-a747-4a5a-9f10-505dd2f2e556"
      },
      "source": [
        "import numpy as np\n",
        "import pandas as pd\n",
        "import datetime\n",
        "import matplotlib.pyplot as plt\n",
        "import seaborn as sns\n",
        "from sklearn.datasets import load_digits\n",
        "sns.set(context='notebook',rc={'figure.figsize':(12,10)})"
      ],
      "execution_count": 1,
      "outputs": [
        {
          "output_type": "stream",
          "text": [
            "/usr/local/lib/python3.6/dist-packages/statsmodels/tools/_testing.py:19: FutureWarning: pandas.util.testing is deprecated. Use the functions in the public API at pandas.testing instead.\n",
            "  import pandas.util.testing as tm\n"
          ],
          "name": "stderr"
        }
      ]
    },
    {
      "cell_type": "markdown",
      "metadata": {
        "id": "k9ouJmPefffx",
        "colab_type": "text"
      },
      "source": [
        "# **importing the LOCALLY LINEAR EMBEDDING**"
      ]
    },
    {
      "cell_type": "code",
      "metadata": {
        "id": "hHwfu0ERfee3",
        "colab_type": "code",
        "colab": {}
      },
      "source": [
        "from sklearn.manifold import LocallyLinearEmbedding"
      ],
      "execution_count": 2,
      "outputs": []
    },
    {
      "cell_type": "markdown",
      "metadata": {
        "id": "uOiFFYJrfzS8",
        "colab_type": "text"
      },
      "source": [
        "# **LOADING THE DIGITS DATASET**"
      ]
    },
    {
      "cell_type": "code",
      "metadata": {
        "id": "HvTJJ7imfabD",
        "colab_type": "code",
        "colab": {
          "base_uri": "https://localhost:8080/",
          "height": 34
        },
        "outputId": "fe31f0c0-9926-465a-8310-777c70e53352"
      },
      "source": [
        "digits = load_digits()\n",
        "digits.images.shape"
      ],
      "execution_count": 3,
      "outputs": [
        {
          "output_type": "execute_result",
          "data": {
            "text/plain": [
              "(1797, 8, 8)"
            ]
          },
          "metadata": {
            "tags": []
          },
          "execution_count": 3
        }
      ]
    },
    {
      "cell_type": "markdown",
      "metadata": {
        "id": "SW8l9Gd6gi5G",
        "colab_type": "text"
      },
      "source": [
        "# **fitting the LLE MODEL**"
      ]
    },
    {
      "cell_type": "code",
      "metadata": {
        "id": "qiRksAtMgKPF",
        "colab_type": "code",
        "colab": {
          "base_uri": "https://localhost:8080/",
          "height": 50
        },
        "outputId": "e5f2f3d7-492b-435c-90ca-d898fd0be82e"
      },
      "source": [
        "%time embedding = LocallyLinearEmbedding(n_components=2).fit(digits.data)"
      ],
      "execution_count": 4,
      "outputs": [
        {
          "output_type": "stream",
          "text": [
            "CPU times: user 643 ms, sys: 19.6 ms, total: 663 ms\n",
            "Wall time: 700 ms\n"
          ],
          "name": "stdout"
        }
      ]
    },
    {
      "cell_type": "code",
      "metadata": {
        "id": "CCC_OPy6QUyc",
        "colab_type": "code",
        "colab": {
          "base_uri": "https://localhost:8080/",
          "height": 84
        },
        "outputId": "23150beb-71c5-42e4-b9cb-f75efbd5eb9b"
      },
      "source": [
        "embedding"
      ],
      "execution_count": 5,
      "outputs": [
        {
          "output_type": "execute_result",
          "data": {
            "text/plain": [
              "LocallyLinearEmbedding(eigen_solver='auto', hessian_tol=0.0001, max_iter=100,\n",
              "                       method='standard', modified_tol=1e-12, n_components=2,\n",
              "                       n_jobs=None, n_neighbors=5, neighbors_algorithm='auto',\n",
              "                       random_state=None, reg=0.001, tol=1e-06)"
            ]
          },
          "metadata": {
            "tags": []
          },
          "execution_count": 5
        }
      ]
    },
    {
      "cell_type": "code",
      "metadata": {
        "id": "C2XXFwT_QavJ",
        "colab_type": "code",
        "colab": {}
      },
      "source": [
        " lle = embedding.fit_transform(digits.data)"
      ],
      "execution_count": 6,
      "outputs": []
    },
    {
      "cell_type": "code",
      "metadata": {
        "id": "sdrXUponhNTK",
        "colab_type": "code",
        "colab": {
          "base_uri": "https://localhost:8080/",
          "height": 594
        },
        "outputId": "2abd14ec-a64b-42bd-b6f3-ff3c1398dae8"
      },
      "source": [
        "plt.figure(figsize=(10,10))\n",
        "vis_x = lle[:, 0]\n",
        "vis_y = lle[:, 1]\n",
        "plt.scatter(vis_x, vis_y, c=digits.target, cmap=plt.cm.get_cmap(\"jet\", 10), marker='.')\n",
        "plt.colorbar(ticks=range(10))\n",
        "plt.clim(-0.5, 9.5)\n",
        "plt.show()"
      ],
      "execution_count": 7,
      "outputs": [
        {
          "output_type": "display_data",
          "data": {
            "image/png": "[encoded data removed]",
            "text/plain": [
              "<Figure size 720x720 with 2 Axes>"
            ]
          },
          "metadata": {
            "tags": [],
            "needs_background": "light"
          }
        }
      ]
    },
    {
      "cell_type": "code",
      "metadata": {
        "id": "NoR9HAZUhcCH",
        "colab_type": "code",
        "colab": {
          "base_uri": "https://localhost:8080/",
          "height": 50
        },
        "outputId": "1e446a1a-884f-4d8e-c7e4-6b13bbf90135"
      },
      "source": [
        "%time embedding1 = LocallyLinearEmbedding(n_components=2,method='modified').fit_transform(digits.data)"
      ],
      "execution_count": 8,
      "outputs": [
        {
          "output_type": "stream",
          "text": [
            "CPU times: user 907 ms, sys: 25 ms, total: 932 ms\n",
            "Wall time: 938 ms\n"
          ],
          "name": "stdout"
        }
      ]
    },
    {
      "cell_type": "code",
      "metadata": {
        "id": "4-LvkJXqRsg5",
        "colab_type": "code",
        "colab": {
          "base_uri": "https://localhost:8080/",
          "height": 594
        },
        "outputId": "47531e91-bec4-4318-94da-5b3178a8b484"
      },
      "source": [
        "plt.figure(figsize=(10,10))\n",
        "vis_x = embedding1[:, 0]\n",
        "vis_y = embedding1[:, 1]\n",
        "plt.scatter(vis_x, vis_y, c=digits.target, cmap=plt.cm.get_cmap(\"jet\", 10), marker='.')\n",
        "plt.colorbar(ticks=range(10))\n",
        "plt.clim(-0.5, 9.5)\n",
        "plt.show()"
      ],
      "execution_count": 9,
      "outputs": [
        {
          "output_type": "display_data",
          "data": {
            "image/png": "[encoded data removed]",
            "text/plain": [
              "<Figure size 720x720 with 2 Axes>"
            ]
          },
          "metadata": {
            "tags": [],
            "needs_background": "light"
          }
        }
      ]
    },
    {
      "cell_type": "code",
      "metadata": {
        "id": "9T7YAdJzUqEd",
        "colab_type": "code",
        "colab": {}
      },
      "source": [
        ""
      ],
      "execution_count": 9,
      "outputs": []
    }
  ]
}